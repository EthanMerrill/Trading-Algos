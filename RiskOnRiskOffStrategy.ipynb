{
  "nbformat": 4,
  "nbformat_minor": 0,
  "metadata": {
    "colab": {
      "provenance": [],
      "authorship_tag": "ABX9TyN7NnVmc3NTT57RujgPvh2j",
      "include_colab_link": true
    },
    "kernelspec": {
      "name": "python3",
      "display_name": "Python 3"
    },
    "language_info": {
      "name": "python"
    }
  },
  "cells": [
    {
      "cell_type": "markdown",
      "metadata": {
        "id": "view-in-github",
        "colab_type": "text"
      },
      "source": [
        "<a href=\"https://colab.research.google.com/github/EthanMerrill/Trading-Algos/blob/master/RiskOnRiskOffStrategy.ipynb\" target=\"_parent\"><img src=\"https://colab.research.google.com/assets/colab-badge.svg\" alt=\"Open In Colab\"/></a>"
      ]
    },
    {
      "cell_type": "code",
      "source": [
        "!pip install alpaca_trade_api\n",
        "!pip install alpaca-py\n"
      ],
      "metadata": {
        "colab": {
          "base_uri": "https://localhost:8080/",
          "height": 1000
        },
        "id": "UwUukkqAlTPh",
        "outputId": "d9c28720-d6a6-4cc7-9471-a0b3ef5d51ad"
      },
      "execution_count": 3,
      "outputs": [
        {
          "output_type": "stream",
          "name": "stdout",
          "text": [
            "Collecting alpaca_trade_api\n",
            "  Downloading alpaca_trade_api-3.0.2-py3-none-any.whl (34 kB)\n",
            "Requirement already satisfied: pandas>=0.18.1 in /usr/local/lib/python3.10/dist-packages (from alpaca_trade_api) (1.5.3)\n",
            "Requirement already satisfied: numpy>=1.11.1 in /usr/local/lib/python3.10/dist-packages (from alpaca_trade_api) (1.23.5)\n",
            "Requirement already satisfied: requests<3,>2 in /usr/local/lib/python3.10/dist-packages (from alpaca_trade_api) (2.31.0)\n",
            "Collecting urllib3<2,>1.24 (from alpaca_trade_api)\n",
            "  Downloading urllib3-1.26.16-py2.py3-none-any.whl (143 kB)\n",
            "\u001b[2K     \u001b[90m━━━━━━━━━━━━━━━━━━━━━━━━━━━━━━━━━━━━━━━\u001b[0m \u001b[32m143.1/143.1 kB\u001b[0m \u001b[31m3.2 MB/s\u001b[0m eta \u001b[36m0:00:00\u001b[0m\n",
            "\u001b[?25hRequirement already satisfied: websocket-client<2,>=0.56.0 in /usr/local/lib/python3.10/dist-packages (from alpaca_trade_api) (1.6.2)\n",
            "Collecting websockets<11,>=9.0 (from alpaca_trade_api)\n",
            "  Downloading websockets-10.4-cp310-cp310-manylinux_2_5_x86_64.manylinux1_x86_64.manylinux_2_17_x86_64.manylinux2014_x86_64.whl (106 kB)\n",
            "\u001b[2K     \u001b[90m━━━━━━━━━━━━━━━━━━━━━━━━━━━━━━━━━━━━━━\u001b[0m \u001b[32m106.8/106.8 kB\u001b[0m \u001b[31m12.0 MB/s\u001b[0m eta \u001b[36m0:00:00\u001b[0m\n",
            "\u001b[?25hCollecting msgpack==1.0.3 (from alpaca_trade_api)\n",
            "  Downloading msgpack-1.0.3-cp310-cp310-manylinux_2_17_x86_64.manylinux2014_x86_64.whl (323 kB)\n",
            "\u001b[2K     \u001b[90m━━━━━━━━━━━━━━━━━━━━━━━━━━━━━━━━━━━━━━\u001b[0m \u001b[32m323.7/323.7 kB\u001b[0m \u001b[31m28.5 MB/s\u001b[0m eta \u001b[36m0:00:00\u001b[0m\n",
            "\u001b[?25hCollecting aiohttp==3.8.2 (from alpaca_trade_api)\n",
            "  Downloading aiohttp-3.8.2-cp310-cp310-manylinux_2_17_x86_64.manylinux2014_x86_64.whl (1.0 MB)\n",
            "\u001b[2K     \u001b[90m━━━━━━━━━━━━━━━━━━━━━━━━━━━━━━━━━━━━━━━━\u001b[0m \u001b[32m1.0/1.0 MB\u001b[0m \u001b[31m19.1 MB/s\u001b[0m eta \u001b[36m0:00:00\u001b[0m\n",
            "\u001b[?25hCollecting PyYAML==6.0 (from alpaca_trade_api)\n",
            "  Downloading PyYAML-6.0-cp310-cp310-manylinux_2_5_x86_64.manylinux1_x86_64.manylinux_2_12_x86_64.manylinux2010_x86_64.whl (682 kB)\n",
            "\u001b[2K     \u001b[90m━━━━━━━━━━━━━━━━━━━━━━━━━━━━━━━━━━━━━━\u001b[0m \u001b[32m682.2/682.2 kB\u001b[0m \u001b[31m27.1 MB/s\u001b[0m eta \u001b[36m0:00:00\u001b[0m\n",
            "\u001b[?25hCollecting deprecation==2.1.0 (from alpaca_trade_api)\n",
            "  Downloading deprecation-2.1.0-py2.py3-none-any.whl (11 kB)\n",
            "Requirement already satisfied: attrs>=17.3.0 in /usr/local/lib/python3.10/dist-packages (from aiohttp==3.8.2->alpaca_trade_api) (23.1.0)\n",
            "Collecting charset-normalizer<3.0,>=2.0 (from aiohttp==3.8.2->alpaca_trade_api)\n",
            "  Downloading charset_normalizer-2.1.1-py3-none-any.whl (39 kB)\n",
            "Collecting multidict<6.0,>=4.5 (from aiohttp==3.8.2->alpaca_trade_api)\n",
            "  Downloading multidict-5.2.0-cp310-cp310-manylinux_2_5_x86_64.manylinux1_x86_64.manylinux_2_12_x86_64.manylinux2010_x86_64.whl (175 kB)\n",
            "\u001b[2K     \u001b[90m━━━━━━━━━━━━━━━━━━━━━━━━━━━━━━━━━━━━━━\u001b[0m \u001b[32m175.1/175.1 kB\u001b[0m \u001b[31m13.6 MB/s\u001b[0m eta \u001b[36m0:00:00\u001b[0m\n",
            "\u001b[?25hRequirement already satisfied: async-timeout<5.0,>=4.0.0a3 in /usr/local/lib/python3.10/dist-packages (from aiohttp==3.8.2->alpaca_trade_api) (4.0.3)\n",
            "Requirement already satisfied: yarl<2.0,>=1.0 in /usr/local/lib/python3.10/dist-packages (from aiohttp==3.8.2->alpaca_trade_api) (1.9.2)\n",
            "Requirement already satisfied: frozenlist>=1.1.1 in /usr/local/lib/python3.10/dist-packages (from aiohttp==3.8.2->alpaca_trade_api) (1.4.0)\n",
            "Requirement already satisfied: aiosignal>=1.1.2 in /usr/local/lib/python3.10/dist-packages (from aiohttp==3.8.2->alpaca_trade_api) (1.3.1)\n",
            "Requirement already satisfied: packaging in /usr/local/lib/python3.10/dist-packages (from deprecation==2.1.0->alpaca_trade_api) (23.1)\n",
            "Requirement already satisfied: python-dateutil>=2.8.1 in /usr/local/lib/python3.10/dist-packages (from pandas>=0.18.1->alpaca_trade_api) (2.8.2)\n",
            "Requirement already satisfied: pytz>=2020.1 in /usr/local/lib/python3.10/dist-packages (from pandas>=0.18.1->alpaca_trade_api) (2023.3)\n",
            "Requirement already satisfied: idna<4,>=2.5 in /usr/local/lib/python3.10/dist-packages (from requests<3,>2->alpaca_trade_api) (3.4)\n",
            "Requirement already satisfied: certifi>=2017.4.17 in /usr/local/lib/python3.10/dist-packages (from requests<3,>2->alpaca_trade_api) (2023.7.22)\n",
            "Requirement already satisfied: six>=1.5 in /usr/local/lib/python3.10/dist-packages (from python-dateutil>=2.8.1->pandas>=0.18.1->alpaca_trade_api) (1.16.0)\n",
            "\u001b[33mWARNING: The candidate selected for download or install is a yanked version: 'aiohttp' candidate (version 3.8.2 at https://files.pythonhosted.org/packages/8f/52/ea1e5eac3e748a94fdaafba5ab68adfb833f0cbdb68cc8149fbba5574176/aiohttp-3.8.2-cp310-cp310-manylinux_2_17_x86_64.manylinux2014_x86_64.whl (from https://pypi.org/simple/aiohttp/) (requires-python:>=3.6))\n",
            "Reason for being yanked: This version includes overly restrictive multidict upper boundary disallowing multidict v6+. The previous patch version didn't have that and this is now causing dependency resolution problems for the users who have an \"incompatible\" version pinned. This is not really necessary anymore and will be addressed in the next release v3.8.3\n",
            "\n",
            "https://github.com/aio-libs/aiohttp/pull/6950\u001b[0m\u001b[33m\n",
            "\u001b[0mInstalling collected packages: msgpack, websockets, urllib3, PyYAML, multidict, deprecation, charset-normalizer, aiohttp, alpaca_trade_api\n",
            "  Attempting uninstall: msgpack\n",
            "    Found existing installation: msgpack 1.0.5\n",
            "    Uninstalling msgpack-1.0.5:\n",
            "      Successfully uninstalled msgpack-1.0.5\n",
            "  Attempting uninstall: urllib3\n",
            "    Found existing installation: urllib3 2.0.4\n",
            "    Uninstalling urllib3-2.0.4:\n",
            "      Successfully uninstalled urllib3-2.0.4\n",
            "  Attempting uninstall: PyYAML\n",
            "    Found existing installation: PyYAML 6.0.1\n",
            "    Uninstalling PyYAML-6.0.1:\n",
            "      Successfully uninstalled PyYAML-6.0.1\n",
            "  Attempting uninstall: multidict\n",
            "    Found existing installation: multidict 6.0.4\n",
            "    Uninstalling multidict-6.0.4:\n",
            "      Successfully uninstalled multidict-6.0.4\n",
            "  Attempting uninstall: charset-normalizer\n",
            "    Found existing installation: charset-normalizer 3.2.0\n",
            "    Uninstalling charset-normalizer-3.2.0:\n",
            "      Successfully uninstalled charset-normalizer-3.2.0\n",
            "  Attempting uninstall: aiohttp\n",
            "    Found existing installation: aiohttp 3.8.5\n",
            "    Uninstalling aiohttp-3.8.5:\n",
            "      Successfully uninstalled aiohttp-3.8.5\n",
            "Successfully installed PyYAML-6.0 aiohttp-3.8.2 alpaca_trade_api-3.0.2 charset-normalizer-2.1.1 deprecation-2.1.0 msgpack-1.0.3 multidict-5.2.0 urllib3-1.26.16 websockets-10.4\n"
          ]
        },
        {
          "output_type": "display_data",
          "data": {
            "application/vnd.colab-display-data+json": {
              "pip_warning": {
                "packages": [
                  "charset_normalizer",
                  "urllib3"
                ]
              }
            }
          },
          "metadata": {}
        },
        {
          "output_type": "stream",
          "name": "stdout",
          "text": [
            "Collecting alpaca-py\n",
            "  Downloading alpaca_py-0.10.0-py3-none-any.whl (101 kB)\n",
            "\u001b[2K     \u001b[90m━━━━━━━━━━━━━━━━━━━━━━━━━━━━━━━━━━━━━━━\u001b[0m \u001b[32m101.6/101.6 kB\u001b[0m \u001b[31m1.8 MB/s\u001b[0m eta \u001b[36m0:00:00\u001b[0m\n",
            "\u001b[?25hRequirement already satisfied: msgpack<2.0.0,>=1.0.3 in /usr/local/lib/python3.10/dist-packages (from alpaca-py) (1.0.3)\n",
            "Collecting pandas<3.0.0,>=2.0.0 (from alpaca-py)\n",
            "  Downloading pandas-2.1.0-cp310-cp310-manylinux_2_17_x86_64.manylinux2014_x86_64.whl (12.7 MB)\n",
            "\u001b[2K     \u001b[90m━━━━━━━━━━━━━━━━━━━━━━━━━━━━━━━━━━━━━━━━\u001b[0m \u001b[32m12.7/12.7 MB\u001b[0m \u001b[31m85.7 MB/s\u001b[0m eta \u001b[36m0:00:00\u001b[0m\n",
            "\u001b[?25hCollecting pydantic<2.0.0,>=1.9.0 (from alpaca-py)\n",
            "  Downloading pydantic-1.10.12-cp310-cp310-manylinux_2_17_x86_64.manylinux2014_x86_64.whl (3.1 MB)\n",
            "\u001b[2K     \u001b[90m━━━━━━━━━━━━━━━━━━━━━━━━━━━━━━━━━━━━━━━━\u001b[0m \u001b[32m3.1/3.1 MB\u001b[0m \u001b[31m83.9 MB/s\u001b[0m eta \u001b[36m0:00:00\u001b[0m\n",
            "\u001b[?25hRequirement already satisfied: requests<3.0.0,>=2.30.0 in /usr/local/lib/python3.10/dist-packages (from alpaca-py) (2.31.0)\n",
            "Collecting sseclient-py<2.0.0,>=1.7.2 (from alpaca-py)\n",
            "  Downloading sseclient_py-1.8.0-py2.py3-none-any.whl (8.8 kB)\n",
            "Requirement already satisfied: websockets<11.0,>=10.2 in /usr/local/lib/python3.10/dist-packages (from alpaca-py) (10.4)\n",
            "Requirement already satisfied: numpy>=1.22.4 in /usr/local/lib/python3.10/dist-packages (from pandas<3.0.0,>=2.0.0->alpaca-py) (1.23.5)\n",
            "Requirement already satisfied: python-dateutil>=2.8.2 in /usr/local/lib/python3.10/dist-packages (from pandas<3.0.0,>=2.0.0->alpaca-py) (2.8.2)\n",
            "Requirement already satisfied: pytz>=2020.1 in /usr/local/lib/python3.10/dist-packages (from pandas<3.0.0,>=2.0.0->alpaca-py) (2023.3)\n",
            "Collecting tzdata>=2022.1 (from pandas<3.0.0,>=2.0.0->alpaca-py)\n",
            "  Downloading tzdata-2023.3-py2.py3-none-any.whl (341 kB)\n",
            "\u001b[2K     \u001b[90m━━━━━━━━━━━━━━━━━━━━━━━━━━━━━━━━━━━━━━\u001b[0m \u001b[32m341.8/341.8 kB\u001b[0m \u001b[31m36.4 MB/s\u001b[0m eta \u001b[36m0:00:00\u001b[0m\n",
            "\u001b[?25hRequirement already satisfied: typing-extensions>=4.2.0 in /usr/local/lib/python3.10/dist-packages (from pydantic<2.0.0,>=1.9.0->alpaca-py) (4.7.1)\n",
            "Requirement already satisfied: charset-normalizer<4,>=2 in /usr/local/lib/python3.10/dist-packages (from requests<3.0.0,>=2.30.0->alpaca-py) (2.1.1)\n",
            "Requirement already satisfied: idna<4,>=2.5 in /usr/local/lib/python3.10/dist-packages (from requests<3.0.0,>=2.30.0->alpaca-py) (3.4)\n",
            "Requirement already satisfied: urllib3<3,>=1.21.1 in /usr/local/lib/python3.10/dist-packages (from requests<3.0.0,>=2.30.0->alpaca-py) (1.26.16)\n",
            "Requirement already satisfied: certifi>=2017.4.17 in /usr/local/lib/python3.10/dist-packages (from requests<3.0.0,>=2.30.0->alpaca-py) (2023.7.22)\n",
            "Requirement already satisfied: six>=1.5 in /usr/local/lib/python3.10/dist-packages (from python-dateutil>=2.8.2->pandas<3.0.0,>=2.0.0->alpaca-py) (1.16.0)\n",
            "Installing collected packages: sseclient-py, tzdata, pydantic, pandas, alpaca-py\n",
            "  Attempting uninstall: pydantic\n",
            "    Found existing installation: pydantic 2.2.1\n",
            "    Uninstalling pydantic-2.2.1:\n",
            "      Successfully uninstalled pydantic-2.2.1\n",
            "  Attempting uninstall: pandas\n",
            "    Found existing installation: pandas 1.5.3\n",
            "    Uninstalling pandas-1.5.3:\n",
            "      Successfully uninstalled pandas-1.5.3\n",
            "\u001b[31mERROR: pip's dependency resolver does not currently take into account all the packages that are installed. This behaviour is the source of the following dependency conflicts.\n",
            "google-colab 1.0.0 requires pandas==1.5.3, but you have pandas 2.1.0 which is incompatible.\u001b[0m\u001b[31m\n",
            "\u001b[0mSuccessfully installed alpaca-py-0.10.0 pandas-2.1.0 pydantic-1.10.12 sseclient-py-1.8.0 tzdata-2023.3\n"
          ]
        }
      ]
    },
    {
      "cell_type": "code",
      "execution_count": 4,
      "metadata": {
        "id": "uYB0c_e0bHD9"
      },
      "outputs": [],
      "source": [
        "import pandas_datareader.data as web\n",
        "import pandas as pd\n",
        "import alpaca_trade_api as alpaca\n",
        "import requests\n",
        "import base64"
      ]
    },
    {
      "cell_type": "code",
      "source": [
        "APCA_API_BASE_URL=\"https://paper-api.alpaca.markets\"\n",
        "ALPCA_PAPER_KEY = \"PKIDK8BXVS07HWAKUYCS\"\n",
        "ALPCA_PAPER_SECRET = \"zmSekWcDtkbnMVeadoHmuqCgw5edeNLgKxjIIcW6\""
      ],
      "metadata": {
        "id": "28BdYHdnc03X"
      },
      "execution_count": 5,
      "outputs": []
    },
    {
      "cell_type": "code",
      "source": [
        "# Importing the API and instantiating the REST client according to our keys\n",
        "from alpaca.trading.client import TradingClient\n",
        "\n",
        "\n"
      ],
      "metadata": {
        "colab": {
          "base_uri": "https://localhost:8080/"
        },
        "id": "IrQ6Km83EG-j",
        "outputId": "fa0fe68c-bc17-4a81-ee57-2b70aa89a19b"
      },
      "execution_count": 6,
      "outputs": [
        {
          "output_type": "stream",
          "name": "stdout",
          "text": [
            "10000\n",
            "10000\n"
          ]
        }
      ]
    },
    {
      "cell_type": "code",
      "source": [
        "from pandas_datareader.av import AlphaVantage\n",
        "from alpaca.trading.client import TradingClient\n",
        "from alpaca.trading.requests import MarketOrderRequest\n",
        "from alpaca.trading.enums import OrderSide, TimeInForce\n",
        "from alpaca.data.requests import StockLatestQuoteRequest\n",
        "from alpaca.data import StockHistoricalDataClient\n",
        "client = StockHistoricalDataClient(ALPCA_PAPER_KEY, ALPCA_PAPER_SECRET)\n",
        "\n",
        "\n",
        "trading_client = TradingClient(AlphaVantage, ALPCA_PAPER_SECRET, paper=True)\n",
        "\n",
        "def Orderer (symbol, quantity, buy):\n",
        "  print(f'order recieved to {buy if \"buy\" else \"sell\"} {quantity} of {symbol}')\n",
        "  # preparing orders\n",
        "  market_order_data = MarketOrderRequest(\n",
        "                    symbol=symbol,\n",
        "                    qty=quantity,\n",
        "                    side= OrderSide.BUY if buy else OrderSide.SELL,\n",
        "                    time_in_force=TimeInForce.DAY\n",
        "                    )\n",
        "  # Market order\n",
        "  market_order = trading_client.submit_order(\n",
        "                order_data=market_order_data\n",
        "               )\n",
        "\n",
        "\n",
        "## determines how many shares of each item in the portfolio need to be purchased given their current prices\n",
        "def ShareAllocator(totalCash, portfolio_object):\n",
        "  for ticker in portfolio_object:\n",
        "        print(ticker, portfolio_object[ticker])\n",
        "        quote = client.get_stock_latest_quote(StockLatestQuoteRequest(symbol_or_symbols=[ticker]))\n",
        "        quote_price = quote[ticker].ask_price\n",
        "        share_count = totalCash*portfolio_object[ticker]/quote_price\n",
        "        portfolio_object[ticker] = {\"%\":portfolio_object[ticker], \"shares\":round(share_count)}\n",
        "\n",
        "  return portfolio_object\n",
        "\n",
        "def SellEverything(portfolio):\n",
        "      # Print the quantity of shares for each position.\n",
        "    for position in portfolio:\n",
        "\n",
        "      print(\"Selling {} shares of {}\".format(position.qty, position.symbol))\n",
        "      Orderer(position.symbol, position.qty, False)\n",
        "\n",
        "def AssetAllocator(desired_portfolio, current_positions, cash):\n",
        "  #if ANY of the desired positions are already held in the account, abort\n",
        "  print(current_positions, desired_portfolio)\n",
        "  for ticker in current_positions:\n",
        "    if ticker in desired_portfolio:\n",
        "      print(f'ticker {ticker} already owned! Ending')\n",
        "      return\n",
        "    ## Sell Everything in portfolio currently\n",
        "  SellEverything(portfolio)\n",
        "  # determine how many shares to purchase\n",
        "  desired_portfolio = ShareAllocator(int(cash), desired_portfolio)\n",
        "  for ticker in desired_portfolio:\n",
        "    Orderer(ticker, conserv_portfolio[ticker][\"shares\"], True)"
      ],
      "metadata": {
        "id": "pRrEeksN8-ou"
      },
      "execution_count": 53,
      "outputs": []
    },
    {
      "cell_type": "code",
      "source": [
        "from sqlalchemy import null\n",
        "# Get historical returns for selected assets\n",
        "BILDF = web.DataReader('BIL', 'stooq')\n",
        "BNDDF = web.DataReader('BND', 'stooq')\n",
        "QQQDF = web.DataReader('QQQ', 'stooq')\n",
        "UPRODF = web.DataReader('UPRO', 'stooq')\n",
        "EIFDF = web.DataReader('EIF', 'stooq')\n",
        "\n",
        "# Calculate returns in the past 60 days for BIL\n",
        "\n",
        "cumBIL = BILDF[\"Open\"].iloc[0]-BILDF[\"Open\"].iloc[60];\n",
        "cumBND = BNDDF[\"Open\"].iloc[0]-BNDDF[\"Open\"].iloc[60];\n",
        "\n",
        "\n",
        "# create the trading client\n",
        "trading_client = TradingClient(ALPCA_PAPER_KEY, ALPCA_PAPER_SECRET, paper=True)\n",
        "# Get a list of all of our positions.\n",
        "portfolio = trading_client.get_all_positions()\n",
        "account = trading_client.get_account()\n",
        "print(account.cash)\n",
        "\n",
        "if cumBND>cumBIL:\n",
        "    print('Buy Signal')\n",
        "    ## Sell Everything in portfolio currently\n",
        "    SellEverything(portfolio)\n",
        "    ## Buy the Aggressive stocks\n",
        "    agro_portfolio = {\n",
        "        \"QQQ\":45,\n",
        "        \"UPRO\":45\n",
        "    }\n",
        "    AssetAllocator(agro_portfolio, trading_client.get_all_positions(), account.cash)\n",
        "\n",
        "else:\n",
        "    print(\"Sell Signal\")\n",
        "\n",
        "    ## Buy the conservative stock\n",
        "    conserv_portfolio = {\n",
        "        \"IEF\":.95\n",
        "    }\n",
        "    AssetAllocator(conserv_portfolio, trading_client.get_all_positions(), account.cash)\n",
        ""
      ],
      "metadata": {
        "colab": {
          "base_uri": "https://localhost:8080/"
        },
        "id": "cBel4bUebTde",
        "outputId": "ae598503-c3ae-4a60-d067-c57229441076"
      },
      "execution_count": 54,
      "outputs": [
        {
          "output_type": "stream",
          "name": "stdout",
          "text": [
            "10000\n",
            "Sell Signal\n",
            "[] {'IEF': 0.95}\n",
            "IEF 0.95\n",
            "{'IEF': {'%': 0.95, 'shares': 102}}\n",
            "order recieved to True 102 of IEF\n"
          ]
        }
      ]
    },
    {
      "cell_type": "code",
      "source": [
        "trading_client.get_all_positions()"
      ],
      "metadata": {
        "colab": {
          "base_uri": "https://localhost:8080/"
        },
        "id": "9hVMCnoY71oJ",
        "outputId": "04aa45e5-81d1-422e-f561-dfdc163336c6"
      },
      "execution_count": 34,
      "outputs": [
        {
          "output_type": "execute_result",
          "data": {
            "text/plain": [
              "[]"
            ]
          },
          "metadata": {},
          "execution_count": 34
        }
      ]
    },
    {
      "cell_type": "code",
      "source": [
        ""
      ],
      "metadata": {
        "colab": {
          "base_uri": "https://localhost:8080/"
        },
        "id": "XiMG0oDpKEGt",
        "outputId": "0e46540c-6bf7-4f6e-be12-d317ba1c2170"
      },
      "execution_count": 12,
      "outputs": [
        {
          "output_type": "stream",
          "name": "stdout",
          "text": [
            "QQQ 0.45\n",
            "buy 12 shares of QQQ at 383.45\n",
            "UPRO 0.45\n",
            "buy 90 shares of UPRO at 50.25\n",
            "{'QQQ': {'%': 0.45, 'Shares': 12}, 'UPRO': {'%': 0.45, 'Shares': 90}}\n"
          ]
        }
      ]
    },
    {
      "cell_type": "code",
      "source": [
        "    api = alpaca.REST(\"PKFOXX7NR9BPZ70VS5QD\", \"hRVqGr0lAdSsKN5u1s8k45x5qJAYdZg49irheS56\", APCA_API_BASE_URL)\n"
      ],
      "metadata": {
        "id": "UrSX6CxgbsQ7"
      },
      "execution_count": 27,
      "outputs": []
    },
    {
      "cell_type": "code",
      "source": [
        "api.get_account().last_equity()"
      ],
      "metadata": {
        "colab": {
          "base_uri": "https://localhost:8080/",
          "height": 179
        },
        "id": "5lWhj2Sqk-R9",
        "outputId": "b75e3b30-dddd-44bc-cb6c-f8a8d646d28f"
      },
      "execution_count": 13,
      "outputs": [
        {
          "output_type": "error",
          "ename": "NameError",
          "evalue": "ignored",
          "traceback": [
            "\u001b[0;31m---------------------------------------------------------------------------\u001b[0m",
            "\u001b[0;31mNameError\u001b[0m                                 Traceback (most recent call last)",
            "\u001b[0;32m<ipython-input-13-0003b21ddd0b>\u001b[0m in \u001b[0;36m<cell line: 1>\u001b[0;34m()\u001b[0m\n\u001b[0;32m----> 1\u001b[0;31m \u001b[0mapi\u001b[0m\u001b[0;34m.\u001b[0m\u001b[0mget_account\u001b[0m\u001b[0;34m(\u001b[0m\u001b[0;34m)\u001b[0m\u001b[0;34m.\u001b[0m\u001b[0mlast_equity\u001b[0m\u001b[0;34m(\u001b[0m\u001b[0;34m)\u001b[0m\u001b[0;34m\u001b[0m\u001b[0;34m\u001b[0m\u001b[0m\n\u001b[0m",
            "\u001b[0;31mNameError\u001b[0m: name 'api' is not defined"
          ]
        }
      ]
    },
    {
      "cell_type": "code",
      "source": [],
      "metadata": {
        "id": "h9GMmaOala0G"
      },
      "execution_count": null,
      "outputs": []
    }
  ]
}