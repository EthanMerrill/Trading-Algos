{
 "cells": [
  {
   "cell_type": "code",
   "execution_count": 53,
   "metadata": {},
   "outputs": [],
   "source": [
    "import pandas_datareader.data as web\n",
    "import pandas as pd\n",
    "from backtesting import Strategy, Backtest\n",
    "from backtesting.lib import crossover\n",
    "import backtesting\n",
    "\n",
    "BILDF = web.DataReader('BIL', 'stooq')\n",
    "BILDF = web.DataReader('BND', 'stooq')\n",
    "QQQDF = web.DataReader('QQQ', 'stooq')\n",
    "UPRODF = web.DataReader('UPRO', 'stooq')\n",
    "EIFDF = web.DataReader('EIF', 'stooq')\n",
    "\n"
   ]
  },
  {
   "cell_type": "code",
   "execution_count": 54,
   "metadata": {},
   "outputs": [],
   "source": [
    "def SMA(values, n):\n",
    "    \"\"\"\n",
    "    Return simple moving average of `values`, at\n",
    "    each step taking into account `n` previous values.\n",
    "    \"\"\"\n",
    "    return pd.Series(values).rolling(n).mean()"
   ]
  },
  {
   "cell_type": "code",
   "execution_count": 56,
   "metadata": {},
   "outputs": [
    {
     "name": "stderr",
     "output_type": "stream",
     "text": [
      "/var/folders/yc/lrz1jj2j5vgfg6xn03_69x480000gn/T/ipykernel_15162/2607825325.py:44: UserWarning: Data index is not sorted in ascending order. Sorting.\n",
      "  bt = Backtest(BILDF, SmaCross, cash=10_000, commission=.002)\n",
      "BokehDeprecationWarning: Passing lists of formats for DatetimeTickFormatter scales was deprecated in Bokeh 3.0. Configure a single string format for each scale\n",
      "/opt/homebrew/lib/python3.10/site-packages/backtesting/_plotting.py:250: UserWarning: DatetimeFormatter scales now only accept a single format. Using the first provided: '%d %b'\n",
      "  formatter=DatetimeTickFormatter(days=['%d %b', '%a %d'],\n",
      "BokehDeprecationWarning: Passing lists of formats for DatetimeTickFormatter scales was deprecated in Bokeh 3.0. Configure a single string format for each scale\n",
      "/opt/homebrew/lib/python3.10/site-packages/backtesting/_plotting.py:250: UserWarning: DatetimeFormatter scales now only accept a single format. Using the first provided: '%m/%Y'\n",
      "  formatter=DatetimeTickFormatter(days=['%d %b', '%a %d'],\n",
      "/opt/homebrew/lib/python3.10/site-packages/backtesting/_plotting.py:659: UserWarning: found multiple competing values for 'toolbar.active_drag' property; using the latest value\n",
      "  fig = gridplot(\n",
      "/opt/homebrew/lib/python3.10/site-packages/backtesting/_plotting.py:659: UserWarning: found multiple competing values for 'toolbar.active_scroll' property; using the latest value\n",
      "  fig = gridplot(\n"
     ]
    },
    {
     "ename": "TypeError",
     "evalue": "bokeh.models.tools.Toolbar() got multiple values for keyword argument 'logo'",
     "output_type": "error",
     "traceback": [
      "\u001b[0;31m---------------------------------------------------------------------------\u001b[0m",
      "\u001b[0;31mTypeError\u001b[0m                                 Traceback (most recent call last)",
      "Cell \u001b[0;32mIn[56], line 47\u001b[0m\n\u001b[1;32m     45\u001b[0m stats \u001b[39m=\u001b[39m bt\u001b[39m.\u001b[39mrun()\n\u001b[1;32m     46\u001b[0m stats\n\u001b[0;32m---> 47\u001b[0m bt\u001b[39m.\u001b[39;49mplot()\n",
      "File \u001b[0;32m/opt/homebrew/lib/python3.10/site-packages/backtesting/backtesting.py:1592\u001b[0m, in \u001b[0;36mBacktest.plot\u001b[0;34m(self, results, filename, plot_width, plot_equity, plot_return, plot_pl, plot_volume, plot_drawdown, smooth_equity, relative_equity, superimpose, resample, reverse_indicators, show_legend, open_browser)\u001b[0m\n\u001b[1;32m   1589\u001b[0m         \u001b[39mraise\u001b[39;00m \u001b[39mRuntimeError\u001b[39;00m(\u001b[39m'\u001b[39m\u001b[39mFirst issue `backtest.run()` to obtain results.\u001b[39m\u001b[39m'\u001b[39m)\n\u001b[1;32m   1590\u001b[0m     results \u001b[39m=\u001b[39m \u001b[39mself\u001b[39m\u001b[39m.\u001b[39m_results\n\u001b[0;32m-> 1592\u001b[0m \u001b[39mreturn\u001b[39;00m plot(\n\u001b[1;32m   1593\u001b[0m     results\u001b[39m=\u001b[39;49mresults,\n\u001b[1;32m   1594\u001b[0m     df\u001b[39m=\u001b[39;49m\u001b[39mself\u001b[39;49m\u001b[39m.\u001b[39;49m_data,\n\u001b[1;32m   1595\u001b[0m     indicators\u001b[39m=\u001b[39;49mresults\u001b[39m.\u001b[39;49m_strategy\u001b[39m.\u001b[39;49m_indicators,\n\u001b[1;32m   1596\u001b[0m     filename\u001b[39m=\u001b[39;49mfilename,\n\u001b[1;32m   1597\u001b[0m     plot_width\u001b[39m=\u001b[39;49mplot_width,\n\u001b[1;32m   1598\u001b[0m     plot_equity\u001b[39m=\u001b[39;49mplot_equity,\n\u001b[1;32m   1599\u001b[0m     plot_return\u001b[39m=\u001b[39;49mplot_return,\n\u001b[1;32m   1600\u001b[0m     plot_pl\u001b[39m=\u001b[39;49mplot_pl,\n\u001b[1;32m   1601\u001b[0m     plot_volume\u001b[39m=\u001b[39;49mplot_volume,\n\u001b[1;32m   1602\u001b[0m     plot_drawdown\u001b[39m=\u001b[39;49mplot_drawdown,\n\u001b[1;32m   1603\u001b[0m     smooth_equity\u001b[39m=\u001b[39;49msmooth_equity,\n\u001b[1;32m   1604\u001b[0m     relative_equity\u001b[39m=\u001b[39;49mrelative_equity,\n\u001b[1;32m   1605\u001b[0m     superimpose\u001b[39m=\u001b[39;49msuperimpose,\n\u001b[1;32m   1606\u001b[0m     resample\u001b[39m=\u001b[39;49mresample,\n\u001b[1;32m   1607\u001b[0m     reverse_indicators\u001b[39m=\u001b[39;49mreverse_indicators,\n\u001b[1;32m   1608\u001b[0m     show_legend\u001b[39m=\u001b[39;49mshow_legend,\n\u001b[1;32m   1609\u001b[0m     open_browser\u001b[39m=\u001b[39;49mopen_browser)\n",
      "File \u001b[0;32m/opt/homebrew/lib/python3.10/site-packages/backtesting/_plotting.py:659\u001b[0m, in \u001b[0;36mplot\u001b[0;34m(results, df, indicators, filename, plot_width, plot_equity, plot_return, plot_pl, plot_volume, plot_drawdown, smooth_equity, relative_equity, superimpose, resample, reverse_indicators, show_legend, open_browser)\u001b[0m\n\u001b[1;32m    656\u001b[0m \u001b[39mif\u001b[39;00m plot_width \u001b[39mis\u001b[39;00m \u001b[39mNone\u001b[39;00m:\n\u001b[1;32m    657\u001b[0m     kwargs[\u001b[39m'\u001b[39m\u001b[39msizing_mode\u001b[39m\u001b[39m'\u001b[39m] \u001b[39m=\u001b[39m \u001b[39m'\u001b[39m\u001b[39mstretch_width\u001b[39m\u001b[39m'\u001b[39m\n\u001b[0;32m--> 659\u001b[0m fig \u001b[39m=\u001b[39m gridplot(\n\u001b[1;32m    660\u001b[0m     plots,\n\u001b[1;32m    661\u001b[0m     ncols\u001b[39m=\u001b[39;49m\u001b[39m1\u001b[39;49m,\n\u001b[1;32m    662\u001b[0m     toolbar_location\u001b[39m=\u001b[39;49m\u001b[39m'\u001b[39;49m\u001b[39mright\u001b[39;49m\u001b[39m'\u001b[39;49m,\n\u001b[1;32m    663\u001b[0m     toolbar_options\u001b[39m=\u001b[39;49m\u001b[39mdict\u001b[39;49m(logo\u001b[39m=\u001b[39;49m\u001b[39mNone\u001b[39;49;00m),\n\u001b[1;32m    664\u001b[0m     merge_tools\u001b[39m=\u001b[39;49m\u001b[39mTrue\u001b[39;49;00m,\n\u001b[1;32m    665\u001b[0m     \u001b[39m*\u001b[39;49m\u001b[39m*\u001b[39;49mkwargs\n\u001b[1;32m    666\u001b[0m )\n\u001b[1;32m    667\u001b[0m show(fig, browser\u001b[39m=\u001b[39m\u001b[39mNone\u001b[39;00m \u001b[39mif\u001b[39;00m open_browser \u001b[39melse\u001b[39;00m \u001b[39m'\u001b[39m\u001b[39mnone\u001b[39m\u001b[39m'\u001b[39m)\n\u001b[1;32m    668\u001b[0m \u001b[39mreturn\u001b[39;00m fig\n",
      "File \u001b[0;32m/opt/homebrew/lib/python3.10/site-packages/bokeh/layouts.py:333\u001b[0m, in \u001b[0;36mgridplot\u001b[0;34m(children, sizing_mode, toolbar_location, ncols, width, height, toolbar_options, merge_tools)\u001b[0m\n\u001b[1;32m    330\u001b[0m active_tap \u001b[39m=\u001b[39m assert_unique(active_taps, \u001b[39m\"\u001b[39m\u001b[39mactive_tap\u001b[39m\u001b[39m\"\u001b[39m)\n\u001b[1;32m    331\u001b[0m active_multi \u001b[39m=\u001b[39m assert_unique(active_multis, \u001b[39m\"\u001b[39m\u001b[39mactive_multi\u001b[39m\u001b[39m\"\u001b[39m)\n\u001b[0;32m--> 333\u001b[0m toolbar \u001b[39m=\u001b[39m Toolbar(\n\u001b[1;32m    334\u001b[0m     tools\u001b[39m=\u001b[39mtools,\n\u001b[1;32m    335\u001b[0m     logo\u001b[39m=\u001b[39mlogo,\n\u001b[1;32m    336\u001b[0m     active_drag\u001b[39m=\u001b[39mactive_drag,\n\u001b[1;32m    337\u001b[0m     active_inspect\u001b[39m=\u001b[39mactive_inspect,\n\u001b[1;32m    338\u001b[0m     active_scroll\u001b[39m=\u001b[39mactive_scroll,\n\u001b[1;32m    339\u001b[0m     active_tap\u001b[39m=\u001b[39mactive_tap,\n\u001b[1;32m    340\u001b[0m     active_multi\u001b[39m=\u001b[39mactive_multi,\n\u001b[1;32m    341\u001b[0m     \u001b[39m*\u001b[39m\u001b[39m*\u001b[39mtoolbar_options,\n\u001b[1;32m    342\u001b[0m )\n\u001b[1;32m    344\u001b[0m gp \u001b[39m=\u001b[39m GridPlot(\n\u001b[1;32m    345\u001b[0m     children\u001b[39m=\u001b[39mitems,\n\u001b[1;32m    346\u001b[0m     toolbar\u001b[39m=\u001b[39mtoolbar,\n\u001b[1;32m    347\u001b[0m     toolbar_location\u001b[39m=\u001b[39mtoolbar_location,\n\u001b[1;32m    348\u001b[0m     sizing_mode\u001b[39m=\u001b[39msizing_mode,\n\u001b[1;32m    349\u001b[0m )\n\u001b[1;32m    351\u001b[0m \u001b[39mreturn\u001b[39;00m gp\n",
      "\u001b[0;31mTypeError\u001b[0m: bokeh.models.tools.Toolbar() got multiple values for keyword argument 'logo'"
     ]
    }
   ],
   "source": [
    "class RiskOnRiskOff(Strategy):\n",
    "    n=60 # 60 day lookback period\n",
    "\n",
    "    def init(self):\n",
    "        # compute the cumulative 60 day returns of bnd and bil\n",
    "        self.bnd_cumret = self.I(lambda x: x['Close'] / x['Close'].iloc[0])(BND)\n",
    "        self.bil_cumret = self.I(lambda x: x['Close'] / x['Close'].iloc[0])(BIL)\n",
    "        \n",
    "\n",
    "    def next(self):\n",
    "        # if bnd has outperformed bil over the last 60 days, buy UPRO and QQQ equally else BUY IEF\n",
    "        if self.bnd_cumret[-1] > self.bil_cumret[-1]:\n",
    "            self.position.close()\n",
    "            self.buy('UPRO', 0.5)\n",
    "            self.buy('QQQ', 0.5)\n",
    "        else:\n",
    "            self.position.close()\n",
    "            self.buy('IEF', 1.0)\n",
    "\n",
    "class SmaCross(Strategy):\n",
    "    # Define the two MA lags as *class variables*\n",
    "    # for later optimization\n",
    "    n1 = 10\n",
    "    n2 = 20\n",
    "    \n",
    "    def init(self):\n",
    "        # Precompute the two moving averages\n",
    "        self.sma1 = self.I(SMA, self.data.Close, self.n1)\n",
    "        self.sma2 = self.I(SMA, self.data.Close, self.n2)\n",
    "    \n",
    "    def next(self):\n",
    "        # If sma1 crosses above sma2, close any existing\n",
    "        # short trades, and buy the asset\n",
    "        if crossover(self.sma1, self.sma2):\n",
    "            self.position.close()\n",
    "            self.buy()\n",
    "\n",
    "        # Else, if sma1 crosses below sma2, close any existing\n",
    "        # long trades, and sell the asset\n",
    "        elif crossover(self.sma2, self.sma1):\n",
    "            self.position.close()\n",
    "            self.sell()\n",
    "\n",
    "bt = Backtest(BILDF, SmaCross, cash=10_000, commission=.002)\n",
    "stats = bt.run()\n",
    "stats\n",
    "bt.plot()\n"
   ]
  },
  {
   "cell_type": "code",
   "execution_count": null,
   "metadata": {},
   "outputs": [],
   "source": []
  },
  {
   "cell_type": "code",
   "execution_count": null,
   "metadata": {},
   "outputs": [],
   "source": []
  }
 ],
 "metadata": {
  "kernelspec": {
   "display_name": "Python 3",
   "language": "python",
   "name": "python3"
  },
  "language_info": {
   "codemirror_mode": {
    "name": "ipython",
    "version": 3
   },
   "file_extension": ".py",
   "mimetype": "text/x-python",
   "name": "python",
   "nbconvert_exporter": "python",
   "pygments_lexer": "ipython3",
   "version": "3.10.8"
  },
  "orig_nbformat": 4
 },
 "nbformat": 4,
 "nbformat_minor": 2
}
